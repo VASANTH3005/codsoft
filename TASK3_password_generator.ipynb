{
  "nbformat": 4,
  "nbformat_minor": 0,
  "metadata": {
    "colab": {
      "provenance": [],
      "authorship_tag": "ABX9TyPs1zTJvjWewusbSJRFFDoG",
      "include_colab_link": true
    },
    "kernelspec": {
      "name": "python3",
      "display_name": "Python 3"
    },
    "language_info": {
      "name": "python"
    }
  },
  "cells": [
    {
      "cell_type": "markdown",
      "metadata": {
        "id": "view-in-github",
        "colab_type": "text"
      },
      "source": [
        "<a href=\"https://colab.research.google.com/github/VASANTH3005/codsoft/blob/main/TASK3_password_generator.ipynb\" target=\"_parent\"><img src=\"https://colab.research.google.com/assets/colab-badge.svg\" alt=\"Open In Colab\"/></a>"
      ]
    },
    {
      "cell_type": "code",
      "execution_count": null,
      "metadata": {
        "id": "449RMej0Vzjf",
        "colab": {
          "base_uri": "https://localhost:8080/"
        },
        "outputId": "135c15cb-3bd3-41d8-ae56-4f9f69efb921"
      },
      "outputs": [
        {
          "output_type": "stream",
          "name": "stdout",
          "text": [
            "Enter the desired password length: 10\n",
            "Generated Password: @F$)uY}4`Y\n"
          ]
        }
      ],
      "source": [
        "import random\n",
        "import string\n",
        "\n",
        "def generate_password(length):\n",
        "    characters = string.ascii_letters + string.digits + string.punctuation\n",
        "    password = ''.join(random.choice(characters) for _ in range(length))\n",
        "    return password\n",
        "\n",
        "if __name__ == \"__main__\":\n",
        "    try:\n",
        "        password_length = int(input(\"Enter the desired password length: \"))\n",
        "        if password_length <= 0:\n",
        "            raise ValueError(\"Password length must be a positive integer.\")\n",
        "\n",
        "        generated_password = generate_password(password_length)\n",
        "        print(\"Generated Password:\", generated_password)\n",
        "\n",
        "    except ValueError as e:\n",
        "        print(f\"Error: {e}\")\n"
      ]
    },
    {
      "cell_type": "code",
      "source": [
        "import random\n",
        "import string\n",
        "\n",
        "def generate_password(length):\n",
        "    characters = string.ascii_letters + string.digits + string.punctuation\n",
        "    password = ''.join(random.choice(characters) for _ in range(length))\n",
        "    return password\n",
        "\n",
        "if __name__ == \"__main__\":\n",
        "    try:\n",
        "        password_length = int(input(\"Enter the desired password length: \"))\n",
        "        if password_length <= 0:\n",
        "            raise ValueError(\"Password length must be a positive integer.\")\n",
        "\n",
        "        generated_password = generate_password(password_length)\n",
        "        print(\"Generated Password:\", generated_password)\n",
        "\n",
        "    except ValueError as e:\n",
        "        print(f\"Error: {e}\")\n"
      ],
      "metadata": {
        "colab": {
          "base_uri": "https://localhost:8080/"
        },
        "id": "REidN3JqjhE1",
        "outputId": "d7313678-5d25-40c6-b33a-1a9888be7fdf"
      },
      "execution_count": null,
      "outputs": [
        {
          "output_type": "stream",
          "name": "stdout",
          "text": [
            "Enter the desired password length: 10\n",
            "Generated Password: c.@^8i<{)9\n"
          ]
        }
      ]
    }
  ]
}